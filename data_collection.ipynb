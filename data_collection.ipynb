{
 "nbformat": 4,
 "nbformat_minor": 0,
 "metadata": {
  "colab": {
   "provenance": []
  },
  "kernelspec": {
   "name": "python3",
   "display_name": "Python 3"
  },
  "language_info": {
   "name": "python"
  }
 },
 "cells": [
  {
   "cell_type": "markdown",
   "source": [
    "## Zara's Tweets"
   ],
   "metadata": {
    "id": "0pDWTKYA2yeu"
   }
  },
  {
   "cell_type": "code",
   "source": [
    "!pip install snscrape"
   ],
   "metadata": {
    "colab": {
     "base_uri": "https://localhost:8080/"
    },
    "id": "jtNubsVubUiY",
    "outputId": "9be427b7-6787-4f28-ab24-64392f3061d7"
   },
   "execution_count": null,
   "outputs": [
    {
     "output_type": "stream",
     "name": "stdout",
     "text": [
      "Looking in indexes: https://pypi.org/simple, https://us-python.pkg.dev/colab-wheels/public/simple/\n",
      "Collecting snscrape\n",
      "  Downloading snscrape-0.5.0.20230113-py3-none-any.whl (69 kB)\n",
      "\u001B[2K     \u001B[90m━━━━━━━━━━━━━━━━━━━━━━━━━━━━━━━━━━━━━━━━\u001B[0m \u001B[32m69.2/69.2 KB\u001B[0m \u001B[31m9.5 MB/s\u001B[0m eta \u001B[36m0:00:00\u001B[0m\n",
      "\u001B[?25hRequirement already satisfied: pytz in /usr/local/lib/python3.8/dist-packages (from snscrape) (2022.7)\n",
      "Requirement already satisfied: requests[socks] in /usr/local/lib/python3.8/dist-packages (from snscrape) (2.25.1)\n",
      "Requirement already satisfied: beautifulsoup4 in /usr/local/lib/python3.8/dist-packages (from snscrape) (4.6.3)\n",
      "Requirement already satisfied: lxml in /usr/local/lib/python3.8/dist-packages (from snscrape) (4.9.2)\n",
      "Requirement already satisfied: filelock in /usr/local/lib/python3.8/dist-packages (from snscrape) (3.9.0)\n",
      "Requirement already satisfied: idna<3,>=2.5 in /usr/local/lib/python3.8/dist-packages (from requests[socks]->snscrape) (2.10)\n",
      "Requirement already satisfied: chardet<5,>=3.0.2 in /usr/local/lib/python3.8/dist-packages (from requests[socks]->snscrape) (4.0.0)\n",
      "Requirement already satisfied: urllib3<1.27,>=1.21.1 in /usr/local/lib/python3.8/dist-packages (from requests[socks]->snscrape) (1.24.3)\n",
      "Requirement already satisfied: certifi>=2017.4.17 in /usr/local/lib/python3.8/dist-packages (from requests[socks]->snscrape) (2022.12.7)\n",
      "Requirement already satisfied: PySocks!=1.5.7,>=1.5.6 in /usr/local/lib/python3.8/dist-packages (from requests[socks]->snscrape) (1.7.1)\n",
      "Installing collected packages: snscrape\n",
      "Successfully installed snscrape-0.5.0.20230113\n"
     ]
    }
   ]
  },
  {
   "cell_type": "code",
   "execution_count": null,
   "metadata": {
    "id": "eBIe5ezYbR_U"
   },
   "outputs": [],
   "source": [
    "import pandas as pd \n",
    "import snscrape.modules.twitter as sntwitter "
   ]
  },
  {
   "cell_type": "code",
   "source": [
    "query = '(from:Zara) lang:en -filter:replies'\n",
    "tweets = []"
   ],
   "metadata": {
    "id": "WlvI1Xoh7j4a"
   },
   "execution_count": null,
   "outputs": []
  },
  {
   "cell_type": "code",
   "source": [
    "for tweet in sntwitter.TwitterSearchScraper(query).get_items():\n",
    "    tweets.append([tweet.date,tweet.user.username,tweet.content])\n",
    "\n",
    "# Converting it to a pandas dataframe\n",
    "df = pd.DataFrame(tweets,columns = ['Date','User','Tweet']) \n",
    "print(df.head())"
   ],
   "metadata": {
    "id": "hLRXX3BobToU"
   },
   "execution_count": null,
   "outputs": []
  },
  {
   "cell_type": "code",
   "source": [
    "df.to_csv(\"Zara_tweets.csv\")"
   ],
   "metadata": {
    "id": "_gT8l62UbTrb"
   },
   "execution_count": null,
   "outputs": []
  },
  {
   "cell_type": "markdown",
   "source": [
    "## Conversations surrounding Zara"
   ],
   "metadata": {
    "id": "yj5Vbr5P22vG"
   }
  },
  {
   "cell_type": "code",
   "source": [
    "from tqdm import tqdm"
   ],
   "metadata": {
    "id": "BYkTJrlb89NX"
   },
   "execution_count": null,
   "outputs": []
  },
  {
   "cell_type": "code",
   "source": [
    "query = '(@Zara) lang:en until:2023-01-16 since:2022-01-16'\n",
    "tweets = []"
   ],
   "metadata": {
    "id": "V_8t7Csp27IX"
   },
   "execution_count": null,
   "outputs": []
  },
  {
   "cell_type": "code",
   "source": [
    "for tweet in tqdm(sntwitter.TwitterSearchScraper(query).get_items()):\n",
    "    tweets.append([tweet.date,tweet.user.username,tweet.content,tweet.replyCount,tweet.retweetCount,tweet.likeCount])\n",
    "\n",
    "# Converting it to a pandas dataframe\n",
    "df = pd.DataFrame(tweets,columns = ['Date','User','Tweet','reply_count','retweet_count','like_count']) \n",
    "print(df.head())"
   ],
   "metadata": {
    "colab": {
     "base_uri": "https://localhost:8080/"
    },
    "id": "2mensl-r2xol",
    "outputId": "d62c0d25-46ce-43b4-f4b6-5cc30c624ff9"
   },
   "execution_count": null,
   "outputs": [
    {
     "output_type": "stream",
     "name": "stderr",
     "text": [
      "0it [00:00, ?it/s]<ipython-input-7-7ddc4c8e4f54>:2: FutureWarning: content is deprecated, use rawContent instead\n",
      "  tweets.append([tweet.date,tweet.user.username,tweet.content,tweet.replyCount,tweet.retweetCount,tweet.likeCount])\n",
      "34465it [15:41, 36.59it/s]"
     ]
    },
    {
     "output_type": "stream",
     "name": "stdout",
     "text": [
      "                       Date             User  \\\n",
      "0 2023-01-15 23:46:54+00:00        Mali_I_am   \n",
      "1 2023-01-15 22:20:07+00:00      NessaTiller   \n",
      "2 2023-01-15 22:19:41+00:00   LiberaceGeechi   \n",
      "3 2023-01-15 21:04:59+00:00             ZARA   \n",
      "4 2023-01-15 20:56:13+00:00  PickeringBrunel   \n",
      "\n",
      "                                               Tweet  reply_count  \\\n",
      "0  I really think I’m just not going to order fro...            0   \n",
      "1  @ZARA Please Make Klarna/Afterpay An Option Li...            0   \n",
      "2  @ZARA  get y’all fucking shit together these l...            0   \n",
      "3  @ieruje Hello, thanks for your interest in our...            0   \n",
      "4  @ZARA I also found a small cut in the right sh...            1   \n",
      "\n",
      "   retweet_count  like_count  \n",
      "0              0           0  \n",
      "1              0           0  \n",
      "2              0           0  \n",
      "3              0           0  \n",
      "4              0           0  \n"
     ]
    },
    {
     "output_type": "stream",
     "name": "stderr",
     "text": [
      "\n"
     ]
    }
   ]
  },
  {
   "cell_type": "code",
   "source": [
    "from google.colab import files\n",
    "\n",
    "df.to_csv(\"zara_conversations.csv\")\n",
    "files.download('zara_conversations.csv') "
   ],
   "metadata": {
    "colab": {
     "base_uri": "https://localhost:8080/",
     "height": 17
    },
    "id": "vz0NqgwH3R4V",
    "outputId": "d0bf387b-6838-4887-e4f4-60abd7a527d9"
   },
   "execution_count": null,
   "outputs": [
    {
     "output_type": "display_data",
     "data": {
      "text/plain": [
       "<IPython.core.display.Javascript object>"
      ],
      "application/javascript": [
       "\n",
       "    async function download(id, filename, size) {\n",
       "      if (!google.colab.kernel.accessAllowed) {\n",
       "        return;\n",
       "      }\n",
       "      const div = document.createElement('div');\n",
       "      const label = document.createElement('label');\n",
       "      label.textContent = `Downloading \"${filename}\": `;\n",
       "      div.appendChild(label);\n",
       "      const progress = document.createElement('progress');\n",
       "      progress.max = size;\n",
       "      div.appendChild(progress);\n",
       "      document.body.appendChild(div);\n",
       "\n",
       "      const buffers = [];\n",
       "      let downloaded = 0;\n",
       "\n",
       "      const channel = await google.colab.kernel.comms.open(id);\n",
       "      // Send a message to notify the kernel that we're ready.\n",
       "      channel.send({})\n",
       "\n",
       "      for await (const message of channel.messages) {\n",
       "        // Send a message to notify the kernel that we're ready.\n",
       "        channel.send({})\n",
       "        if (message.buffers) {\n",
       "          for (const buffer of message.buffers) {\n",
       "            buffers.push(buffer);\n",
       "            downloaded += buffer.byteLength;\n",
       "            progress.value = downloaded;\n",
       "          }\n",
       "        }\n",
       "      }\n",
       "      const blob = new Blob(buffers, {type: 'application/binary'});\n",
       "      const a = document.createElement('a');\n",
       "      a.href = window.URL.createObjectURL(blob);\n",
       "      a.download = filename;\n",
       "      div.appendChild(a);\n",
       "      a.click();\n",
       "      div.remove();\n",
       "    }\n",
       "  "
      ]
     },
     "metadata": {}
    },
    {
     "output_type": "display_data",
     "data": {
      "text/plain": [
       "<IPython.core.display.Javascript object>"
      ],
      "application/javascript": [
       "download(\"download_e139afe0-519d-4f0d-8459-fb4f32795fdf\", \"zara_conversations.csv\", 6972515)"
      ]
     },
     "metadata": {}
    }
   ]
  }
 ]
}